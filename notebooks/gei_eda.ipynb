{
 "cells": [
  {
   "cell_type": "code",
   "execution_count": 24,
   "metadata": {},
   "outputs": [
    {
     "name": "stdout",
     "output_type": "stream",
     "text": [
      "  country_name country_id  year  Inflation (CPI %)  GDP (Current USD)  \\\n",
      "0        Aruba         aw  2010           2.078141       2.453597e+09   \n",
      "1        Aruba         aw  2011           4.316297       2.637859e+09   \n",
      "2        Aruba         aw  2012           0.627472       2.615208e+09   \n",
      "3        Aruba         aw  2013          -2.372065       2.727850e+09   \n",
      "4        Aruba         aw  2014           0.421441       2.790850e+09   \n",
      "\n",
      "   GDP per Capita (Current USD)  Unemployment Rate (%)  \\\n",
      "0                  24093.140151                    NaN   \n",
      "1                  25712.384302                    NaN   \n",
      "2                  25119.665545                    NaN   \n",
      "3                  25813.576727                    NaN   \n",
      "4                  26129.839062                    NaN   \n",
      "\n",
      "   Interest Rate (Real, %)  Inflation (GDP Deflator, %)  \\\n",
      "0                11.666131                    -1.223407   \n",
      "1                 4.801974                     4.005674   \n",
      "2                 8.200875                     0.184033   \n",
      "3                10.709709                    -1.995948   \n",
      "4                 3.213869                     3.958897   \n",
      "\n",
      "   GDP Growth (% Annual)  Current Account Balance (% GDP)  \\\n",
      "0              -2.733457                       -18.752537   \n",
      "1               3.369237                        -9.877656   \n",
      "2              -1.040800                         3.473451   \n",
      "3               6.431483                       -11.813206   \n",
      "4              -1.586575                        -4.658577   \n",
      "\n",
      "   Government Expense (% of GDP)  Government Revenue (% of GDP)  \\\n",
      "0                            NaN                            NaN   \n",
      "1                            NaN                            NaN   \n",
      "2                            NaN                            NaN   \n",
      "3                            NaN                            NaN   \n",
      "4                            NaN                            NaN   \n",
      "\n",
      "   Tax Revenue (% of GDP)  Gross National Income (USD)  Public Debt (% of GDP)  \n",
      "0                     NaN                 2.313385e+09                     NaN  \n",
      "1                     NaN                 2.391841e+09                     NaN  \n",
      "2                     NaN                 2.499118e+09                     NaN  \n",
      "3                     NaN                 2.563517e+09                     NaN  \n",
      "4                     NaN                 2.688102e+09                     NaN  \n",
      "     country_name country_id  year  Inflation (CPI %)  GDP (Current USD)  \\\n",
      "3467     Zimbabwe         zw  2021          98.546105       2.724052e+10   \n",
      "3468     Zimbabwe         zw  2022         104.705171       3.278975e+10   \n",
      "3469     Zimbabwe         zw  2023                NaN       3.523137e+10   \n",
      "3470     Zimbabwe         zw  2024                NaN                NaN   \n",
      "3471     Zimbabwe         zw  2025                NaN                NaN   \n",
      "\n",
      "      GDP per Capita (Current USD)  Unemployment Rate (%)  \\\n",
      "3467                   1724.387731                  9.540   \n",
      "3468                   2040.552459                 10.087   \n",
      "3469                   2156.034004                  8.759   \n",
      "3470                           NaN                  8.554   \n",
      "3471                           NaN                    NaN   \n",
      "\n",
      "      Interest Rate (Real, %)  Inflation (GDP Deflator, %)  \\\n",
      "3467               -31.795551                   113.294981   \n",
      "3468               -36.833393                   266.987152   \n",
      "3469               -73.540441                   921.535652   \n",
      "3470                      NaN                          NaN   \n",
      "3471                      NaN                          NaN   \n",
      "\n",
      "      GDP Growth (% Annual)  Current Account Balance (% GDP)  \\\n",
      "3467               8.468017                         1.278300   \n",
      "3468               6.139263                         0.930064   \n",
      "3469               5.336730                         0.379995   \n",
      "3470                    NaN                              NaN   \n",
      "3471                    NaN                              NaN   \n",
      "\n",
      "      Government Expense (% of GDP)  Government Revenue (% of GDP)  \\\n",
      "3467                            NaN                            NaN   \n",
      "3468                            NaN                            NaN   \n",
      "3469                            NaN                            NaN   \n",
      "3470                            NaN                            NaN   \n",
      "3471                            NaN                            NaN   \n",
      "\n",
      "      Tax Revenue (% of GDP)  Gross National Income (USD)  \\\n",
      "3467                     NaN                 2.662178e+10   \n",
      "3468                     NaN                 3.202694e+10   \n",
      "3469                     NaN                 3.479607e+10   \n",
      "3470                     NaN                          NaN   \n",
      "3471                     NaN                          NaN   \n",
      "\n",
      "      Public Debt (% of GDP)  \n",
      "3467                     NaN  \n",
      "3468                     NaN  \n",
      "3469                     NaN  \n",
      "3470                     NaN  \n",
      "3471                     NaN  \n"
     ]
    }
   ],
   "source": [
    "import kagglehub\n",
    "from kagglehub import KaggleDatasetAdapter\n",
    "import pandas as pd\n",
    "import numpy as np\n",
    "import matplotlib.pyplot as plt\n",
    "import seaborn as sns\n",
    "\n",
    "# Set the path to the file you'd like to load\n",
    "file_path = \"./../data/raw/world_bank_data_2025.csv\"\n",
    "\n",
    "df = pd.read_csv(file_path)\n",
    "print(df.head(5))\n",
    "print(df.tail(5))"
   ]
  },
  {
   "cell_type": "code",
   "execution_count": null,
   "metadata": {},
   "outputs": [
    {
     "data": {
      "text/plain": [
       "(3472, 16)"
      ]
     },
     "execution_count": 25,
     "metadata": {},
     "output_type": "execute_result"
    }
   ],
   "source": [
    "df.shape"
   ]
  },
  {
   "cell_type": "code",
   "execution_count": 26,
   "metadata": {},
   "outputs": [
    {
     "data": {
      "text/plain": [
       "country_name                        object\n",
       "country_id                          object\n",
       "year                                 int64\n",
       "Inflation (CPI %)                  float64\n",
       "GDP (Current USD)                  float64\n",
       "GDP per Capita (Current USD)       float64\n",
       "Unemployment Rate (%)              float64\n",
       "Interest Rate (Real, %)            float64\n",
       "Inflation (GDP Deflator, %)        float64\n",
       "GDP Growth (% Annual)              float64\n",
       "Current Account Balance (% GDP)    float64\n",
       "Government Expense (% of GDP)      float64\n",
       "Government Revenue (% of GDP)      float64\n",
       "Tax Revenue (% of GDP)             float64\n",
       "Gross National Income (USD)        float64\n",
       "Public Debt (% of GDP)             float64\n",
       "dtype: object"
      ]
     },
     "execution_count": 26,
     "metadata": {},
     "output_type": "execute_result"
    }
   ],
   "source": [
    "df.dtypes"
   ]
  },
  {
   "cell_type": "code",
   "execution_count": null,
   "metadata": {},
   "outputs": [
    {
     "data": {
      "text/plain": [
       "country_name                       3472\n",
       "country_id                         3472\n",
       "year                               3472\n",
       "Inflation (CPI %)                  2694\n",
       "GDP (Current USD)                  2933\n",
       "GDP per Capita (Current USD)       2938\n",
       "Unemployment Rate (%)              2795\n",
       "Interest Rate (Real, %)            1735\n",
       "Inflation (GDP Deflator, %)        2904\n",
       "GDP Growth (% Annual)              2912\n",
       "Current Account Balance (% GDP)    2563\n",
       "Government Expense (% of GDP)      1820\n",
       "Government Revenue (% of GDP)      1829\n",
       "Tax Revenue (% of GDP)             1833\n",
       "Gross National Income (USD)        2796\n",
       "Public Debt (% of GDP)              852\n",
       "dtype: int64"
      ]
     },
     "execution_count": 28,
     "metadata": {},
     "output_type": "execute_result"
    }
   ],
   "source": [
    "df.count()"
   ]
  },
  {
   "cell_type": "code",
   "execution_count": 34,
   "metadata": {},
   "outputs": [
    {
     "data": {
      "text/plain": [
       "array(['Aruba', 'Afghanistan', 'Angola', 'Albania', 'Andorra',\n",
       "       'United Arab Emirates', 'Argentina', 'Armenia', 'American Samoa',\n",
       "       'Antigua and Barbuda', 'Australia', 'Austria', 'Azerbaijan',\n",
       "       'Burundi', 'Belgium', 'Benin', 'Burkina Faso', 'Bangladesh',\n",
       "       'Bulgaria', 'Bahrain', 'Bahamas, The', 'Bosnia and Herzegovina',\n",
       "       'Belarus', 'Belize', 'Bermuda', 'Bolivia', 'Brazil', 'Barbados',\n",
       "       'Brunei Darussalam', 'Bhutan', 'Botswana',\n",
       "       'Central African Republic', 'Canada', 'Switzerland',\n",
       "       'Channel Islands', 'Chile', 'China', \"Cote d'Ivoire\", 'Cameroon',\n",
       "       'Congo, Dem. Rep.', 'Congo, Rep.', 'Colombia', 'Comoros',\n",
       "       'Cabo Verde', 'Costa Rica', 'Cuba', 'Curacao', 'Cayman Islands',\n",
       "       'Cyprus', 'Czechia', 'Germany', 'Djibouti', 'Dominica', 'Denmark',\n",
       "       'Dominican Republic', 'Algeria', 'Ecuador', 'Egypt, Arab Rep.',\n",
       "       'Eritrea', 'Spain', 'Estonia', 'Ethiopia', 'Finland', 'Fiji',\n",
       "       'France', 'Faroe Islands', 'Micronesia, Fed. Sts.', 'Gabon',\n",
       "       'United Kingdom', 'Georgia', 'Ghana', 'Gibraltar', 'Guinea',\n",
       "       'Gambia, The', 'Guinea-Bissau', 'Equatorial Guinea', 'Greece',\n",
       "       'Grenada', 'Greenland', 'Guatemala', 'Guam', 'Guyana',\n",
       "       'Hong Kong SAR, China', 'Honduras', 'Croatia', 'Haiti', 'Hungary',\n",
       "       'Indonesia', 'Isle of Man', 'India', 'Ireland',\n",
       "       'Iran, Islamic Rep.', 'Iraq', 'Iceland', 'Israel', 'Italy',\n",
       "       'Jamaica', 'Jordan', 'Japan', 'Kazakhstan', 'Kenya',\n",
       "       'Kyrgyz Republic', 'Cambodia', 'Kiribati', 'St. Kitts and Nevis',\n",
       "       'Korea, Rep.', 'Kuwait', 'Lao PDR', 'Lebanon', 'Liberia', 'Libya',\n",
       "       'St. Lucia', 'Liechtenstein', 'Sri Lanka', 'Lesotho', 'Lithuania',\n",
       "       'Luxembourg', 'Latvia', 'Macao SAR, China',\n",
       "       'St. Martin (French part)', 'Morocco', 'Monaco', 'Moldova',\n",
       "       'Madagascar', 'Maldives', 'Mexico', 'Marshall Islands',\n",
       "       'North Macedonia', 'Mali', 'Malta', 'Myanmar', 'Montenegro',\n",
       "       'Mongolia', 'Northern Mariana Islands', 'Mozambique', 'Mauritania',\n",
       "       'Mauritius', 'Malawi', 'Malaysia', 'Namibia', 'New Caledonia',\n",
       "       'Niger', 'Nigeria', 'Nicaragua', 'Netherlands', 'Norway', 'Nepal',\n",
       "       'Nauru', 'New Zealand', 'Oman', 'Pakistan', 'Panama', 'Peru',\n",
       "       'Philippines', 'Palau', 'Papua New Guinea', 'Poland',\n",
       "       'Puerto Rico', \"Korea, Dem. People's Rep.\", 'Portugal', 'Paraguay',\n",
       "       'West Bank and Gaza', 'French Polynesia', 'Qatar', 'Romania',\n",
       "       'Russian Federation', 'Rwanda', 'Saudi Arabia', 'Sudan', 'Senegal',\n",
       "       'Singapore', 'Solomon Islands', 'Sierra Leone', 'El Salvador',\n",
       "       'San Marino', 'Somalia', 'Serbia', 'South Sudan',\n",
       "       'Sao Tome and Principe', 'Suriname', 'Slovak Republic', 'Slovenia',\n",
       "       'Sweden', 'Eswatini', 'Sint Maarten (Dutch part)', 'Seychelles',\n",
       "       'Syrian Arab Republic', 'Turks and Caicos Islands', 'Chad', 'Togo',\n",
       "       'Thailand', 'Tajikistan', 'Turkmenistan', 'Timor-Leste', 'Tonga',\n",
       "       'Trinidad and Tobago', 'Tunisia', 'Turkiye', 'Tuvalu', 'Tanzania',\n",
       "       'Uganda', 'Ukraine', 'Uruguay', 'United States', 'Uzbekistan',\n",
       "       'St. Vincent and the Grenadines', 'Venezuela, RB',\n",
       "       'British Virgin Islands', 'Virgin Islands (U.S.)', 'Viet Nam',\n",
       "       'Vanuatu', 'Samoa', 'Kosovo', 'Yemen, Rep.', 'South Africa',\n",
       "       'Zambia', 'Zimbabwe'], dtype=object)"
      ]
     },
     "execution_count": 34,
     "metadata": {},
     "output_type": "execute_result"
    }
   ],
   "source": [
    "df['country_name'].unique()"
   ]
  },
  {
   "cell_type": "code",
   "execution_count": 37,
   "metadata": {},
   "outputs": [
    {
     "data": {
      "text/plain": [
       "array([2010, 2011, 2012, 2013, 2014, 2015, 2016, 2017, 2018, 2019, 2020,\n",
       "       2021, 2022, 2023, 2024, 2025])"
      ]
     },
     "execution_count": 37,
     "metadata": {},
     "output_type": "execute_result"
    }
   ],
   "source": [
    "df['year'].unique()"
   ]
  },
  {
   "cell_type": "code",
   "execution_count": 40,
   "metadata": {},
   "outputs": [
    {
     "data": {
      "text/plain": [
       "np.False_"
      ]
     },
     "execution_count": 40,
     "metadata": {},
     "output_type": "execute_result"
    }
   ],
   "source": [
    "df.duplicated(subset=['country_name', 'year'], keep=False).any()"
   ]
  },
  {
   "cell_type": "code",
   "execution_count": null,
   "metadata": {},
   "outputs": [
    {
     "name": "stdout",
     "output_type": "stream",
     "text": [
      "<class 'pandas.core.frame.DataFrame'>\n",
      "RangeIndex: 3472 entries, 0 to 3471\n",
      "Data columns (total 16 columns):\n",
      " #   Column                           Non-Null Count  Dtype  \n",
      "---  ------                           --------------  -----  \n",
      " 0   country_name                     3472 non-null   object \n",
      " 1   country_id                       3472 non-null   object \n",
      " 2   year                             3472 non-null   int64  \n",
      " 3   Inflation (CPI %)                2694 non-null   float64\n",
      " 4   GDP (Current USD)                2933 non-null   float64\n",
      " 5   GDP per Capita (Current USD)     2938 non-null   float64\n",
      " 6   Unemployment Rate (%)            2795 non-null   float64\n",
      " 7   Interest Rate (Real, %)          1735 non-null   float64\n",
      " 8   Inflation (GDP Deflator, %)      2904 non-null   float64\n",
      " 9   GDP Growth (% Annual)            2912 non-null   float64\n",
      " 10  Current Account Balance (% GDP)  2563 non-null   float64\n",
      " 11  Government Expense (% of GDP)    1820 non-null   float64\n",
      " 12  Government Revenue (% of GDP)    1829 non-null   float64\n",
      " 13  Tax Revenue (% of GDP)           1833 non-null   float64\n",
      " 14  Gross National Income (USD)      2796 non-null   float64\n",
      " 15  Public Debt (% of GDP)           852 non-null    float64\n",
      "dtypes: float64(13), int64(1), object(2)\n",
      "memory usage: 434.1+ KB\n"
     ]
    }
   ],
   "source": [
    "df.info()"
   ]
  },
  {
   "cell_type": "code",
   "execution_count": null,
   "metadata": {},
   "outputs": [],
   "source": []
  }
 ],
 "metadata": {
  "kernelspec": {
   "display_name": ".venv",
   "language": "python",
   "name": "python3"
  },
  "language_info": {
   "codemirror_mode": {
    "name": "ipython",
    "version": 3
   },
   "file_extension": ".py",
   "mimetype": "text/x-python",
   "name": "python",
   "nbconvert_exporter": "python",
   "pygments_lexer": "ipython3",
   "version": "3.12.3"
  }
 },
 "nbformat": 4,
 "nbformat_minor": 2
}
